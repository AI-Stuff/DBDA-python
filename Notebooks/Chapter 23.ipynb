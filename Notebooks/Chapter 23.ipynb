{
 "cells": [
  {
   "cell_type": "markdown",
   "metadata": {},
   "source": [
    "## Chapter 23 - Ordinal Predicted Variable"
   ]
  },
  {
   "cell_type": "markdown",
   "metadata": {},
   "source": [
    "- [23.2 - The Case of a Single Group](#23.2---The-Case-of-a-Single-Group)"
   ]
  },
  {
   "cell_type": "code",
   "execution_count": 1,
   "metadata": {
    "collapsed": true
   },
   "outputs": [],
   "source": [
    "# %load std_ipython_import.txt\n",
    "import pandas as pd\n",
    "import numpy as np\n",
    "import matplotlib.pyplot as plt\n",
    "import seaborn as sns\n",
    "import pymc3 as pm\n",
    "import theano.tensor as tt\n",
    "\n",
    "from theano.compile.ops import as_op\n",
    "from scipy.stats import mode, norm\n",
    "from matplotlib import gridspec\n",
    "from IPython.display import Image\n",
    "\n",
    "pd.set_option('display.notebook_repr_html', False)\n",
    "\n",
    "%matplotlib inline\n",
    "plt.style.use('seaborn-white')\n",
    "\n",
    "color = '#87ceeb'\n",
    "\n",
    "f_dict = {'size':16}"
   ]
  },
  {
   "cell_type": "markdown",
   "metadata": {},
   "source": [
    "### 23.2 - The Case of a Single Group\n",
    "Code based on https://gist.github.com/DanielWeitzenfeld/d9ac64f76281e6c1d29217af76449664"
   ]
  },
  {
   "cell_type": "markdown",
   "metadata": {},
   "source": [
    "#### Data"
   ]
  },
  {
   "cell_type": "code",
   "execution_count": 2,
   "metadata": {},
   "outputs": [
    {
     "name": "stdout",
     "output_type": "stream",
     "text": [
      "<class 'pandas.core.frame.DataFrame'>\n",
      "RangeIndex: 100 entries, 0 to 99\n",
      "Data columns (total 1 columns):\n",
      "Y    100 non-null category\n",
      "dtypes: category(1)\n",
      "memory usage: 236.0 bytes\n"
     ]
    }
   ],
   "source": [
    "# Using dtype 'category' for Y\n",
    "df = pd.read_csv('data/OrdinalProbitData-1grp-1.csv', dtype={'Y':'category'})\n",
    "df.info()"
   ]
  },
  {
   "cell_type": "code",
   "execution_count": 3,
   "metadata": {},
   "outputs": [
    {
     "data": {
      "text/plain": [
       "1    58\n",
       "2    15\n",
       "3    12\n",
       "4     8\n",
       "5     4\n",
       "6     2\n",
       "7     1\n",
       "Name: Y, dtype: int64"
      ]
     },
     "execution_count": 3,
     "metadata": {},
     "output_type": "execute_result"
    }
   ],
   "source": [
    "df.Y.value_counts()"
   ]
  },
  {
   "cell_type": "code",
   "execution_count": 4,
   "metadata": {},
   "outputs": [
    {
     "name": "stdout",
     "output_type": "stream",
     "text": [
      "tresh:\t\t[1.5, 2.5, 3.5, 4.5, 5.5, 6.5]\n",
      "tresh_obs:\t[1.5 -- -- -- -- 6.5]\n"
     ]
    }
   ],
   "source": [
    "# Number of outcomes\n",
    "nYlevels = df.Y.cat.categories.size\n",
    "\n",
    "thresh = [k + .5 for k in range(1, nYlevels)]\n",
    "thresh_obs = np.ma.asarray(thresh)\n",
    "thresh_obs[1:-1] = np.ma.masked\n",
    "\n",
    "print('tresh:\\t\\t{}'.format(thresh))\n",
    "print('tresh_obs:\\t{}'.format(thresh_obs))"
   ]
  },
  {
   "cell_type": "code",
   "execution_count": null,
   "metadata": {},
   "outputs": [
    {
     "name": "stdout",
     "output_type": "stream",
     "text": [
      "Applied interval-transform to sigma and added transformed sigma_interval_ to model.\n"
     ]
    }
   ],
   "source": [
    "@as_op(itypes=[tt.dvector, tt.dscalar, tt.dscalar], otypes=[tt.dvector])\n",
    "def outcome_probabilities(theta, mu, sigma):\n",
    "    out = np.empty(nYlevels)\n",
    "    n = norm(loc=mu, scale=sigma)       \n",
    "    out[0] = n.cdf(theta[0])        \n",
    "    out[1] = np.max([0, n.cdf(theta[1]) - n.cdf(theta[0])])\n",
    "    out[2] = np.max([0, n.cdf(theta[2]) - n.cdf(theta[1])])\n",
    "    out[3] = np.max([0, n.cdf(theta[3]) - n.cdf(theta[2])])\n",
    "    out[4] = np.max([0, n.cdf(theta[4]) - n.cdf(theta[3])])\n",
    "    out[5] = np.max([0, n.cdf(theta[5]) - n.cdf(theta[4])])\n",
    "    out[6] = 1 - n.cdf(theta[5])\n",
    "    return out\n",
    "\n",
    "with pm.Model() as ordinal_model_single:    \n",
    "    \n",
    "    theta = pm.Normal('theta', mu=thresh, tau=np.repeat(.5**2, len(thresh)),\n",
    "                      shape=len(thresh), observed=thresh_obs, testval=thresh[1:-1])\n",
    "    \n",
    "    mu = pm.Normal('mu', mu=nYlevels/2.0, tau=1.0/(nYlevels**2), testval=1.0)\n",
    "    \n",
    "    sigma = pm.Uniform('sigma', nYlevels/1000.0, nYlevels*10.0, testval=2.5)\n",
    "    \n",
    "    pr = outcome_probabilities(theta, mu, sigma)\n",
    "    \n",
    "    y = pm.Categorical('y', pr, observed=df.Y.cat.codes.as_matrix())"
   ]
  },
  {
   "cell_type": "code",
   "execution_count": null,
   "metadata": {},
   "outputs": [
    {
     "name": "stdout",
     "output_type": "stream",
     "text": [
      " [-----------------91%--------------    ] 9112 of 10000 complete in 120.0 sec"
     ]
    }
   ],
   "source": [
    "with ordinal_model_single:\n",
    "    step = pm.Metropolis([theta, mu, sigma, pr, y])\n",
    "    trace1 = pm.sample(10000, step=step)"
   ]
  },
  {
   "cell_type": "code",
   "execution_count": null,
   "metadata": {},
   "outputs": [],
   "source": [
    "pm.traceplot(trace1);"
   ]
  },
  {
   "cell_type": "code",
   "execution_count": null,
   "metadata": {},
   "outputs": [],
   "source": [
    "# trace length \n",
    "n = trace1['theta_missing'].shape[0]\n",
    "# Concatenate the fixed thresholds into the estimated thresholds\n",
    "thresholds = np.c_[np.tile([1.5], (n,1)),\n",
    "                   trace1['theta_missing'],\n",
    "                   np.tile([6.5], (n,1))]\n",
    "\n",
    "fig = plt.figure(figsize=(10,8))\n",
    "# Define gridspec\n",
    "gs = gridspec.GridSpec(3, 2)\n",
    "ax1 = plt.subplot(gs[0,0])\n",
    "ax2 = plt.subplot(gs[0,1])\n",
    "ax3 = plt.subplot(gs[1,0])\n",
    "ax4 = plt.subplot(gs[1,1])\n",
    "ax5 = plt.subplot(gs[2,0])\n",
    "\n",
    "pm.plot_posterior(trace1['mu'], point_estimate='mode', color=color, ax=ax1)\n",
    "ax1.set_title('Mean', fontdict=f_dict)\n",
    "ax1.set_xlabel('$\\mu$', fontdict=f_dict)\n",
    "\n",
    "sns.countplot(df.Y, ax=ax2, color=color)\n",
    "sns.despine(ax=ax2)\n",
    "\n",
    "pm.plot_posterior(trace1['sigma'], point_estimate='mode', color=color, ax=ax3)\n",
    "ax3.set_title('Std. Dev.', fontdict=f_dict)\n",
    "ax3.set_xlabel('$\\sigma$', fontdict=f_dict)\n",
    "\n",
    "pm.plot_posterior((trace1['mu']-2)/trace1['sigma'],point_estimate='mode',  color=color, ax=ax4)\n",
    "ax4.set_title('Effect Size', fontdict=f_dict)\n",
    "ax4.set_xlabel('$(\\mu-2)/\\sigma$', fontdict=f_dict)\n",
    "\n",
    "ax5.scatter(thresholds, np.tile(test.mean(axis=1).reshape(-1,1), (1,6)), color=color, alpha=.6, facecolor='none')\n",
    "ax5.set_ylabel('Mean Threshold', fontdict=f_dict)\n",
    "ax5.set_xlabel('Threshold', fontdict=f_dict)\n",
    "\n",
    "fig.tight_layout()"
   ]
  }
 ],
 "metadata": {
  "anaconda-cloud": {},
  "kernelspec": {
   "display_name": "Python [default]",
   "language": "python",
   "name": "python3"
  },
  "language_info": {
   "codemirror_mode": {
    "name": "ipython",
    "version": 3
   },
   "file_extension": ".py",
   "mimetype": "text/x-python",
   "name": "python",
   "nbconvert_exporter": "python",
   "pygments_lexer": "ipython3",
   "version": "3.5.3"
  }
 },
 "nbformat": 4,
 "nbformat_minor": 1
}
