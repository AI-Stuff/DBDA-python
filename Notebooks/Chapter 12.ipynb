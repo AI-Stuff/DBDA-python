{
 "cells": [
  {
   "cell_type": "markdown",
   "metadata": {},
   "source": [
    "## Chapter 12 - Bayesian Approaches to Testing a Point (\"Null\") Hypothesis"
   ]
  },
  {
   "cell_type": "markdown",
   "metadata": {},
   "source": [
    "- [12.2.2 - Are different groups equal or not?](#12.2.2---Are-different-groups-equal-or-not?)"
   ]
  },
  {
   "cell_type": "code",
   "execution_count": 1,
   "metadata": {},
   "outputs": [],
   "source": [
    "import pandas as pd\n",
    "import numpy as np\n",
    "import pymc3 as pm\n",
    "import matplotlib.pyplot as plt\n",
    "import seaborn as sns\n",
    "import warnings\n",
    "warnings.filterwarnings(\"ignore\", category=FutureWarning)\n",
    "\n",
    "import theano.tensor as tt\n",
    "from matplotlib import gridspec\n",
    "\n",
    "%matplotlib inline\n",
    "plt.style.use('seaborn-white')\n",
    "\n",
    "color = '#87ceeb'"
   ]
  },
  {
   "cell_type": "code",
   "execution_count": 2,
   "metadata": {},
   "outputs": [
    {
     "name": "stdout",
     "output_type": "stream",
     "text": [
      "pandas 0.23.4\n",
      "numpy 1.15.0\n",
      "pymc3 3.5\n",
      "matplotlib 2.2.3\n",
      "seaborn 0.9.0\n",
      "theano 1.0.2\n"
     ]
    }
   ],
   "source": [
    "%load_ext watermark\n",
    "%watermark -p pandas,numpy,pymc3,matplotlib,seaborn,theano"
   ]
  },
  {
   "cell_type": "markdown",
   "metadata": {},
   "source": [
    "#### Data\n",
    "Using *R*, I executed lines 18-63 from the script `OneOddGroupModelComp2E.R` to generate the exact same data used in the book. The script can be downloaded from the book's website. After executing the lines, the List object `dataList` in *R* contains five elements:\n",
    " 1. `nCond`: A scalar value (4) representing the number of conditions (background music types).\n",
    " 2. `nSubj`: A scalar value (80) representing the number of subjects.\n",
    " 3. `CondOfSubj`: A vector representing the condition (1, 2, 3 or 4) of a subject during a test.\n",
    " 4. `nTrlOfSubj`: A vector with the number of trials/words per subject (20 for all subjects).\n",
    " 5. `nCorrOfSubj`: A vector with number of correct recalls per subject.\n",
    " \n",
    "I exported the last three elements of `dataList` to a csv file using the following command in *R*:   \n",
    "`write.csv(data.frame(dataList[c(3:5)]), file='background_music.csv', row.names=FALSE)`"
   ]
  },
  {
   "cell_type": "code",
   "execution_count": 3,
   "metadata": {},
   "outputs": [
    {
     "name": "stdout",
     "output_type": "stream",
     "text": [
      "<class 'pandas.core.frame.DataFrame'>\n",
      "RangeIndex: 80 entries, 0 to 79\n",
      "Data columns (total 4 columns):\n",
      "CondOfSubj     80 non-null category\n",
      "nTrlOfSubj     80 non-null int64\n",
      "nCorrOfSubj    80 non-null int64\n",
      "CondText       80 non-null object\n",
      "dtypes: category(1), int64(2), object(1)\n",
      "memory usage: 2.1+ KB\n"
     ]
    }
   ],
   "source": [
    "df = pd.read_csv('data/background_music.csv', dtype={'CondOfSubj':'category'})\n",
    "\n",
    "# Mapping the condition descriptions to the condition codes. Just for illustrative purposes.\n",
    "bgmusic = {0:'Das Kruschke', 1:'Mozart', 2:'Bach', 3:'Beethoven'}\n",
    "df['CondText'] = df.CondOfSubj.cat.codes.map(bgmusic)\n",
    "\n",
    "cond_idx = df.CondOfSubj.cat.codes.values\n",
    "cond_codes = df.CondOfSubj.cat.categories\n",
    "nCond = cond_codes.size\n",
    "\n",
    "nSubj = df.index.size\n",
    "\n",
    "df.info()"
   ]
  },
  {
   "cell_type": "code",
   "execution_count": 4,
   "metadata": {},
   "outputs": [
    {
     "data": {
      "text/html": [
       "<div>\n",
       "<style scoped>\n",
       "    .dataframe tbody tr th:only-of-type {\n",
       "        vertical-align: middle;\n",
       "    }\n",
       "\n",
       "    .dataframe tbody tr th {\n",
       "        vertical-align: top;\n",
       "    }\n",
       "\n",
       "    .dataframe thead th {\n",
       "        text-align: right;\n",
       "    }\n",
       "</style>\n",
       "<table border=\"1\" class=\"dataframe\">\n",
       "  <thead>\n",
       "    <tr style=\"text-align: right;\">\n",
       "      <th></th>\n",
       "      <th>CondOfSubj</th>\n",
       "      <th>nTrlOfSubj</th>\n",
       "      <th>nCorrOfSubj</th>\n",
       "      <th>CondText</th>\n",
       "    </tr>\n",
       "  </thead>\n",
       "  <tbody>\n",
       "    <tr>\n",
       "      <th>0</th>\n",
       "      <td>1</td>\n",
       "      <td>20</td>\n",
       "      <td>8</td>\n",
       "      <td>Das Kruschke</td>\n",
       "    </tr>\n",
       "    <tr>\n",
       "      <th>1</th>\n",
       "      <td>1</td>\n",
       "      <td>20</td>\n",
       "      <td>7</td>\n",
       "      <td>Das Kruschke</td>\n",
       "    </tr>\n",
       "    <tr>\n",
       "      <th>2</th>\n",
       "      <td>1</td>\n",
       "      <td>20</td>\n",
       "      <td>8</td>\n",
       "      <td>Das Kruschke</td>\n",
       "    </tr>\n",
       "    <tr>\n",
       "      <th>20</th>\n",
       "      <td>2</td>\n",
       "      <td>20</td>\n",
       "      <td>9</td>\n",
       "      <td>Mozart</td>\n",
       "    </tr>\n",
       "    <tr>\n",
       "      <th>21</th>\n",
       "      <td>2</td>\n",
       "      <td>20</td>\n",
       "      <td>12</td>\n",
       "      <td>Mozart</td>\n",
       "    </tr>\n",
       "    <tr>\n",
       "      <th>22</th>\n",
       "      <td>2</td>\n",
       "      <td>20</td>\n",
       "      <td>9</td>\n",
       "      <td>Mozart</td>\n",
       "    </tr>\n",
       "    <tr>\n",
       "      <th>40</th>\n",
       "      <td>3</td>\n",
       "      <td>20</td>\n",
       "      <td>11</td>\n",
       "      <td>Bach</td>\n",
       "    </tr>\n",
       "    <tr>\n",
       "      <th>41</th>\n",
       "      <td>3</td>\n",
       "      <td>20</td>\n",
       "      <td>6</td>\n",
       "      <td>Bach</td>\n",
       "    </tr>\n",
       "    <tr>\n",
       "      <th>42</th>\n",
       "      <td>3</td>\n",
       "      <td>20</td>\n",
       "      <td>11</td>\n",
       "      <td>Bach</td>\n",
       "    </tr>\n",
       "    <tr>\n",
       "      <th>60</th>\n",
       "      <td>4</td>\n",
       "      <td>20</td>\n",
       "      <td>6</td>\n",
       "      <td>Beethoven</td>\n",
       "    </tr>\n",
       "    <tr>\n",
       "      <th>61</th>\n",
       "      <td>4</td>\n",
       "      <td>20</td>\n",
       "      <td>12</td>\n",
       "      <td>Beethoven</td>\n",
       "    </tr>\n",
       "    <tr>\n",
       "      <th>62</th>\n",
       "      <td>4</td>\n",
       "      <td>20</td>\n",
       "      <td>12</td>\n",
       "      <td>Beethoven</td>\n",
       "    </tr>\n",
       "  </tbody>\n",
       "</table>\n",
       "</div>"
      ],
      "text/plain": [
       "   CondOfSubj  nTrlOfSubj  nCorrOfSubj      CondText\n",
       "0           1          20            8  Das Kruschke\n",
       "1           1          20            7  Das Kruschke\n",
       "2           1          20            8  Das Kruschke\n",
       "20          2          20            9        Mozart\n",
       "21          2          20           12        Mozart\n",
       "22          2          20            9        Mozart\n",
       "40          3          20           11          Bach\n",
       "41          3          20            6          Bach\n",
       "42          3          20           11          Bach\n",
       "60          4          20            6     Beethoven\n",
       "61          4          20           12     Beethoven\n",
       "62          4          20           12     Beethoven"
      ]
     },
     "execution_count": 4,
     "metadata": {},
     "output_type": "execute_result"
    }
   ],
   "source": [
    "df.groupby('CondOfSubj').head(3)"
   ]
  },
  {
   "cell_type": "markdown",
   "metadata": {},
   "source": [
    "### 12.2.2 - Are different groups equal or not?\n",
    "Given the data, how credible is it that the 4 types of background music influence the ability to recall words \n",
    "**differently**?"
   ]
  },
  {
   "cell_type": "code",
   "execution_count": 5,
   "metadata": {},
   "outputs": [
    {
     "data": {
      "text/plain": [
       "CondText\n",
       "Das Kruschke     8.0\n",
       "Mozart          10.0\n",
       "Bach            10.2\n",
       "Beethoven       10.4\n",
       "Name: nCorrOfSubj, dtype: float64"
      ]
     },
     "execution_count": 5,
     "metadata": {},
     "output_type": "execute_result"
    }
   ],
   "source": [
    "# The means as mentioned in section 12.2.2\n",
    "df.groupby('CondText', sort=False)['nCorrOfSubj'].mean()"
   ]
  },
  {
   "cell_type": "markdown",
   "metadata": {},
   "source": [
    "Note: in contrast to the *R* output in the book, the parameters in PyMC3 (like $\\omega$ and model index) are indexed starting with 0.\n",
    "\n",
    "\n",
    "Model 0 = condition specific $\\omega_c$   \n",
    "Model 1 = same $\\omega$ for all conditions"
   ]
  },
  {
   "cell_type": "code",
   "execution_count": 6,
   "metadata": {},
   "outputs": [
    {
     "data": {
      "image/svg+xml": [
       "<?xml version=\"1.0\" encoding=\"UTF-8\" standalone=\"no\"?>\n",
       "<!DOCTYPE svg PUBLIC \"-//W3C//DTD SVG 1.1//EN\"\n",
       " \"http://www.w3.org/Graphics/SVG/1.1/DTD/svg11.dtd\">\n",
       "<!-- Generated by graphviz version 2.40.1 (20161225.0304)\n",
       " -->\n",
       "<!-- Title: %3 Pages: 1 -->\n",
       "<svg width=\"531pt\" height=\"382pt\"\n",
       " viewBox=\"0.00 0.00 530.84 382.00\" xmlns=\"http://www.w3.org/2000/svg\" xmlns:xlink=\"http://www.w3.org/1999/xlink\">\n",
       "<g id=\"graph0\" class=\"graph\" transform=\"scale(1 1) rotate(0) translate(4 378)\">\n",
       "<title>%3</title>\n",
       "<polygon fill=\"#ffffff\" stroke=\"transparent\" points=\"-4,4 -4,-378 526.8426,-378 526.8426,4 -4,4\"/>\n",
       "<g id=\"clust1\" class=\"cluster\">\n",
       "<title>cluster4</title>\n",
       "<path fill=\"none\" stroke=\"#000000\" d=\"M20,-163C20,-163 352,-163 352,-163 358,-163 364,-169 364,-175 364,-175 364,-298 364,-298 364,-304 358,-310 352,-310 352,-310 20,-310 20,-310 14,-310 8,-304 8,-298 8,-298 8,-175 8,-175 8,-169 14,-163 20,-163\"/>\n",
       "<text text-anchor=\"middle\" x=\"352.5\" y=\"-170.8\" font-family=\"Times,serif\" font-size=\"14.00\" fill=\"#000000\">4</text>\n",
       "</g>\n",
       "<g id=\"clust2\" class=\"cluster\">\n",
       "<title>cluster80</title>\n",
       "<path fill=\"none\" stroke=\"#000000\" d=\"M243,-8C243,-8 351,-8 351,-8 357,-8 363,-14 363,-20 363,-20 363,-143 363,-143 363,-149 357,-155 351,-155 351,-155 243,-155 243,-155 237,-155 231,-149 231,-143 231,-143 231,-20 231,-20 231,-14 237,-8 243,-8\"/>\n",
       "<text text-anchor=\"middle\" x=\"348\" y=\"-15.8\" font-family=\"Times,serif\" font-size=\"14.00\" fill=\"#000000\">80</text>\n",
       "</g>\n",
       "<!-- m_idx -->\n",
       "<g id=\"node1\" class=\"node\">\n",
       "<title>m_idx</title>\n",
       "<ellipse fill=\"none\" stroke=\"#000000\" cx=\"439\" cy=\"-356\" rx=\"83.6854\" ry=\"18\"/>\n",
       "<text text-anchor=\"middle\" x=\"439\" y=\"-352.3\" font-family=\"Times,serif\" font-size=\"14.00\" fill=\"#000000\">m_idx ~ Categorical</text>\n",
       "</g>\n",
       "<!-- omega0 -->\n",
       "<g id=\"node2\" class=\"node\">\n",
       "<title>omega0</title>\n",
       "<ellipse fill=\"none\" stroke=\"#000000\" cx=\"439\" cy=\"-284\" rx=\"64.9885\" ry=\"18\"/>\n",
       "<text text-anchor=\"middle\" x=\"439\" y=\"-280.3\" font-family=\"Times,serif\" font-size=\"14.00\" fill=\"#000000\">omega0 ~ Beta</text>\n",
       "</g>\n",
       "<!-- m_idx&#45;&gt;omega0 -->\n",
       "<g id=\"edge2\" class=\"edge\">\n",
       "<title>m_idx&#45;&gt;omega0</title>\n",
       "<path fill=\"none\" stroke=\"#000000\" d=\"M439,-337.8314C439,-330.131 439,-320.9743 439,-312.4166\"/>\n",
       "<polygon fill=\"#000000\" stroke=\"#000000\" points=\"442.5001,-312.4132 439,-302.4133 435.5001,-312.4133 442.5001,-312.4132\"/>\n",
       "</g>\n",
       "<!-- omega -->\n",
       "<g id=\"node4\" class=\"node\">\n",
       "<title>omega</title>\n",
       "<ellipse fill=\"none\" stroke=\"#000000\" cx=\"296\" cy=\"-284\" rx=\"60.3893\" ry=\"18\"/>\n",
       "<text text-anchor=\"middle\" x=\"296\" y=\"-280.3\" font-family=\"Times,serif\" font-size=\"14.00\" fill=\"#000000\">omega ~ Beta</text>\n",
       "</g>\n",
       "<!-- m_idx&#45;&gt;omega -->\n",
       "<g id=\"edge3\" class=\"edge\">\n",
       "<title>m_idx&#45;&gt;omega</title>\n",
       "<path fill=\"none\" stroke=\"#000000\" d=\"M405.8335,-339.3008C385.0417,-328.8322 358.1098,-315.2721 336.1188,-304.1997\"/>\n",
       "<polygon fill=\"#000000\" stroke=\"#000000\" points=\"337.5346,-300.994 327.0289,-299.6229 334.3866,-307.2462 337.5346,-300.994\"/>\n",
       "</g>\n",
       "<!-- theta -->\n",
       "<g id=\"node6\" class=\"node\">\n",
       "<title>theta</title>\n",
       "<ellipse fill=\"none\" stroke=\"#000000\" cx=\"297\" cy=\"-129\" rx=\"53.8905\" ry=\"18\"/>\n",
       "<text text-anchor=\"middle\" x=\"297\" y=\"-125.3\" font-family=\"Times,serif\" font-size=\"14.00\" fill=\"#000000\">theta ~ Beta</text>\n",
       "</g>\n",
       "<!-- m_idx&#45;&gt;theta -->\n",
       "<g id=\"edge5\" class=\"edge\">\n",
       "<title>m_idx&#45;&gt;theta</title>\n",
       "<path fill=\"none\" stroke=\"#000000\" d=\"M480.1496,-340.0869C493.009,-332.9346 505.7243,-323.0897 513,-310 522.5007,-292.9074 520.6971,-283.9771 513,-266 486.8927,-205.0245 462.117,-196.7233 405,-163 389.1521,-153.643 370.4507,-146.5825 353.1028,-141.3903\"/>\n",
       "<polygon fill=\"#000000\" stroke=\"#000000\" points=\"353.6524,-137.9082 343.0768,-138.5459 351.7418,-144.6424 353.6524,-137.9082\"/>\n",
       "</g>\n",
       "<!-- omega0&#45;&gt;theta -->\n",
       "<g id=\"edge6\" class=\"edge\">\n",
       "<title>omega0&#45;&gt;theta</title>\n",
       "<path fill=\"none\" stroke=\"#000000\" d=\"M432.3052,-265.753C422.0202,-239.9075 400.0961,-192.5062 368,-163 360.906,-156.4784 352.3338,-150.9701 343.6359,-146.4115\"/>\n",
       "<polygon fill=\"#000000\" stroke=\"#000000\" points=\"345.1058,-143.2344 334.5828,-142.0022 342.0406,-149.5277 345.1058,-143.2344\"/>\n",
       "</g>\n",
       "<!-- kappa -->\n",
       "<g id=\"node3\" class=\"node\">\n",
       "<title>kappa</title>\n",
       "<polygon fill=\"none\" stroke=\"#000000\" points=\"227,-230 89,-230 89,-194 227,-194 227,-230\"/>\n",
       "<text text-anchor=\"middle\" x=\"158\" y=\"-208.3\" font-family=\"Times,serif\" font-size=\"14.00\" fill=\"#000000\">kappa ~ Deterministic</text>\n",
       "</g>\n",
       "<!-- kappa&#45;&gt;theta -->\n",
       "<g id=\"edge4\" class=\"edge\">\n",
       "<title>kappa&#45;&gt;theta</title>\n",
       "<path fill=\"none\" stroke=\"#000000\" d=\"M188.1609,-193.9902C209.8715,-181.0264 239.2186,-163.5025 261.9682,-149.9183\"/>\n",
       "<polygon fill=\"#000000\" stroke=\"#000000\" points=\"263.8543,-152.8686 270.6457,-144.7367 260.2655,-146.8585 263.8543,-152.8686\"/>\n",
       "</g>\n",
       "<!-- omega&#45;&gt;theta -->\n",
       "<g id=\"edge7\" class=\"edge\">\n",
       "<title>omega&#45;&gt;theta</title>\n",
       "<path fill=\"none\" stroke=\"#000000\" d=\"M296.1167,-265.9162C296.2881,-239.3422 296.6098,-189.4757 296.8141,-157.819\"/>\n",
       "<polygon fill=\"#000000\" stroke=\"#000000\" points=\"300.3163,-157.4715 296.881,-147.4491 293.3164,-157.4263 300.3163,-157.4715\"/>\n",
       "</g>\n",
       "<!-- kappa_minus2 -->\n",
       "<g id=\"node5\" class=\"node\">\n",
       "<title>kappa_minus2</title>\n",
       "<ellipse fill=\"none\" stroke=\"#000000\" cx=\"117\" cy=\"-284\" rx=\"100.9827\" ry=\"18\"/>\n",
       "<text text-anchor=\"middle\" x=\"117\" y=\"-280.3\" font-family=\"Times,serif\" font-size=\"14.00\" fill=\"#000000\">kappa_minus2 ~ Gamma</text>\n",
       "</g>\n",
       "<!-- kappa_minus2&#45;&gt;kappa -->\n",
       "<g id=\"edge1\" class=\"edge\">\n",
       "<title>kappa_minus2&#45;&gt;kappa</title>\n",
       "<path fill=\"none\" stroke=\"#000000\" d=\"M127.346,-265.8314C131.9237,-257.7925 137.4052,-248.1666 142.4588,-239.2918\"/>\n",
       "<polygon fill=\"#000000\" stroke=\"#000000\" points=\"145.6077,-240.8351 147.5147,-230.4133 139.5248,-237.3712 145.6077,-240.8351\"/>\n",
       "</g>\n",
       "<!-- y -->\n",
       "<g id=\"node7\" class=\"node\">\n",
       "<title>y</title>\n",
       "<ellipse fill=\"#d3d3d3\" stroke=\"#000000\" cx=\"297\" cy=\"-57\" rx=\"57.6901\" ry=\"18\"/>\n",
       "<text text-anchor=\"middle\" x=\"297\" y=\"-53.3\" font-family=\"Times,serif\" font-size=\"14.00\" fill=\"#000000\">y ~ Binomial</text>\n",
       "</g>\n",
       "<!-- theta&#45;&gt;y -->\n",
       "<g id=\"edge8\" class=\"edge\">\n",
       "<title>theta&#45;&gt;y</title>\n",
       "<path fill=\"none\" stroke=\"#000000\" d=\"M297,-110.8314C297,-103.131 297,-93.9743 297,-85.4166\"/>\n",
       "<polygon fill=\"#000000\" stroke=\"#000000\" points=\"300.5001,-85.4132 297,-75.4133 293.5001,-85.4133 300.5001,-85.4132\"/>\n",
       "</g>\n",
       "</g>\n",
       "</svg>\n"
      ],
      "text/plain": [
       "<graphviz.dot.Digraph at 0x7f0d73b44e48>"
      ]
     },
     "execution_count": 6,
     "metadata": {},
     "output_type": "execute_result"
    }
   ],
   "source": [
    "with pm.Model() as model_1:\n",
    "    # constants\n",
    "    aP, bP = 1., 1.\n",
    "    \n",
    "    # Pseudo- and true priors for model 1.  \n",
    "    a0 = tt.as_tensor([.48*500, aP])      \n",
    "    b0 = tt.as_tensor([(1-.48)*500, bP])\n",
    "    \n",
    "    # True and pseudopriors for model 0\n",
    "    a = tt.as_tensor(np.c_[np.tile(aP, 4), [(.40*125), (.50*125), (.51*125), (.52*125)]])\n",
    "    b = tt.as_tensor(np.c_[np.tile(bP, 4), [(1-.40)*125, (1-.50)*125, (1-.51)*125, (1-.52)*125]])        \n",
    "  \n",
    "    # Prior on model index [0,1]\n",
    "    m_idx = pm.Categorical('m_idx', np.asarray([.5, .5]))\n",
    "    \n",
    "    # Priors on concentration parameters\n",
    "    kappa_minus2 = pm.Gamma('kappa_minus2', 2.618, 0.0809, shape=nCond)\n",
    "    kappa = pm.Deterministic('kappa', kappa_minus2 +2)\n",
    "        \n",
    "    # omega0 \n",
    "    omega0 = pm.Beta('omega0', a0[m_idx], b0[m_idx])    \n",
    "        \n",
    "    # omega (condition specific)\n",
    "    omega = pm.Beta('omega', a[:,m_idx], b[:,m_idx], shape=nCond)\n",
    "    \n",
    "    # Use condition specific omega when m_idx = 0, else omega0\n",
    "    aBeta = pm.math.switch(pm.math.eq(m_idx, 0), omega * (kappa-2)+1, omega0 * (kappa-2)+1)\n",
    "    bBeta = pm.math.switch(pm.math.eq(m_idx, 0), (1-omega) * (kappa-2)+1, (1-omega0) * (kappa-2)+1)\n",
    "\n",
    "    # Theta\n",
    "    theta = pm.Beta('theta', aBeta[cond_idx], bBeta[cond_idx], shape=nSubj)\n",
    "    \n",
    "    # Likelihood\n",
    "    y = pm.Binomial('y', n=df.nTrlOfSubj.values, p=theta, observed=df.nCorrOfSubj)\n",
    "\n",
    "pm.model_to_graphviz(model_1)"
   ]
  },
  {
   "cell_type": "code",
   "execution_count": null,
   "metadata": {},
   "outputs": [
    {
     "name": "stderr",
     "output_type": "stream",
     "text": [
      "Multiprocess sampling (2 chains in 2 jobs)\n",
      "CompoundStep\n",
      ">BinaryGibbsMetropolis: [m_idx]\n",
      ">NUTS: [theta, omega, omega0, kappa_minus2]\n",
      "Sampling 2 chains:   6%|▋         | 689/11000 [00:01<00:20, 496.98draws/s]"
     ]
    }
   ],
   "source": [
    "with model_1:\n",
    "    trace1 = pm.sample(5000, target_accept=.95)    "
   ]
  },
  {
   "cell_type": "code",
   "execution_count": null,
   "metadata": {},
   "outputs": [],
   "source": [
    "pm.traceplot(trace1);"
   ]
  },
  {
   "cell_type": "markdown",
   "metadata": {},
   "source": [
    "#### Figure 12.5"
   ]
  },
  {
   "cell_type": "code",
   "execution_count": null,
   "metadata": {},
   "outputs": [],
   "source": [
    "fig = plt.figure(figsize=(12,8))\n",
    "\n",
    "# Define gridspec\n",
    "gs = gridspec.GridSpec(3, 3)\n",
    "ax1 = plt.subplot(gs[0,0])\n",
    "ax2 = plt.subplot(gs[0,1])\n",
    "ax3 = plt.subplot(gs[0,2])\n",
    "ax4 = plt.subplot(gs[1,0])\n",
    "ax5 = plt.subplot(gs[1,1])\n",
    "ax6 = plt.subplot(gs[1,2])\n",
    "ax7 = plt.subplot(gs[2,:])\n",
    "\n",
    "# Group the first six axes in a list for easier access in loop below\n",
    "axes = [ax1, ax2, ax3, ax4, ax5, ax6]\n",
    "# Differences of posteriors to be displayed: omega x - omega y\n",
    "x = [0,0,0,1,1,2]\n",
    "y = [1,2,3,2,3,3]\n",
    "\n",
    "# Plot histograms\n",
    "for ax, a, b in zip(axes, x, y):\n",
    "    diff = trace1['omega'][:,a]-trace1['omega'][:,b]\n",
    "    pm.plot_posterior(diff, ref_val=0, point_estimate='mode', color=color, ax=ax)\n",
    "    ax.set_xlabel('$\\omega_{}$ - $\\omega_{}$'.format(a,b), fontdict={'size':18})\n",
    "    ax.xaxis.set_ticks([-.2, -.1, 0.0, 0.1, 0.2])\n",
    "\n",
    "# Plot trace values of model index (0, 1)\n",
    "ax7.plot(np.arange(1, len(trace1['m_idx'])+1),trace1['m_idx'], color=color, linewidth=4)\n",
    "ax7.set_xlabel('Step in Markov chain', fontdict={'size':14})\n",
    "ax7.set_ylabel('Model Index (0, 1)', fontdict={'size':14})\n",
    "ax7.set_ylim(-0.05,1.05)\n",
    "\n",
    "fig.tight_layout()"
   ]
  }
 ],
 "metadata": {
  "kernelspec": {
   "display_name": "Python 3",
   "language": "python",
   "name": "python3"
  },
  "language_info": {
   "codemirror_mode": {
    "name": "ipython",
    "version": 3
   },
   "file_extension": ".py",
   "mimetype": "text/x-python",
   "name": "python",
   "nbconvert_exporter": "python",
   "pygments_lexer": "ipython3",
   "version": "3.6.6"
  }
 },
 "nbformat": 4,
 "nbformat_minor": 1
}
